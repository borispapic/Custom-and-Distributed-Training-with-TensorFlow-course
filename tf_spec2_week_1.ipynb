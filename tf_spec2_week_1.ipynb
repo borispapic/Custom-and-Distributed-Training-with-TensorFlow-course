{
  "nbformat": 4,
  "nbformat_minor": 0,
  "metadata": {
    "colab": {
      "name": "tf_spec2_week_1.ipynb",
      "provenance": []
    },
    "kernelspec": {
      "name": "python3",
      "display_name": "Python 3"
    },
    "language_info": {
      "name": "python"
    }
  },
  "cells": [
    {
      "cell_type": "code",
      "metadata": {
        "colab": {
          "base_uri": "https://localhost:8080/"
        },
        "id": "4CWE8RhNJI2I",
        "outputId": "8c068fd1-86ba-41a6-9925-9ce306044792"
      },
      "source": [
        "import tensorflow as tf\n",
        "tf.Variable(\"Hello\",tf.string)\n"
      ],
      "execution_count": null,
      "outputs": [
        {
          "output_type": "execute_result",
          "data": {
            "text/plain": [
              "<tf.Variable 'Variable:0' shape=() dtype=string, numpy=b'Hello'>"
            ]
          },
          "metadata": {
            "tags": []
          },
          "execution_count": 23
        }
      ]
    },
    {
      "cell_type": "code",
      "metadata": {
        "colab": {
          "base_uri": "https://localhost:8080/"
        },
        "id": "db2etftQJQsb",
        "outputId": "465199d4-7721-4a77-c2f8-72e7c09f5839"
      },
      "source": [
        "tf.constant([1,2,3,4,5,6,7])"
      ],
      "execution_count": null,
      "outputs": [
        {
          "output_type": "execute_result",
          "data": {
            "text/plain": [
              "<tf.Tensor: shape=(7,), dtype=int32, numpy=array([1, 2, 3, 4, 5, 6, 7], dtype=int32)>"
            ]
          },
          "metadata": {
            "tags": []
          },
          "execution_count": 24
        }
      ]
    },
    {
      "cell_type": "code",
      "metadata": {
        "id": "DUi_2TBBJYmD"
      },
      "source": [
        "vector = tf.Variable(initial_value=[1,2])"
      ],
      "execution_count": null,
      "outputs": []
    },
    {
      "cell_type": "code",
      "metadata": {
        "colab": {
          "base_uri": "https://localhost:8080/"
        },
        "id": "4c6GbqP-JmB7",
        "outputId": "d39ad155-9120-4cd9-ac93-26f491f5b50f"
      },
      "source": [
        "vector"
      ],
      "execution_count": null,
      "outputs": [
        {
          "output_type": "execute_result",
          "data": {
            "text/plain": [
              "<tf.Variable 'Variable:0' shape=(2,) dtype=int32, numpy=array([1, 2], dtype=int32)>"
            ]
          },
          "metadata": {
            "tags": []
          },
          "execution_count": 26
        }
      ]
    },
    {
      "cell_type": "code",
      "metadata": {
        "id": "J37f65fnKqNH"
      },
      "source": [
        "vector = tf.Variable([1,2],dtype=tf.float32)"
      ],
      "execution_count": null,
      "outputs": []
    },
    {
      "cell_type": "code",
      "metadata": {
        "colab": {
          "base_uri": "https://localhost:8080/"
        },
        "id": "YVGNIm58KwG5",
        "outputId": "7af0731e-423f-4b65-a46a-0c22f050c066"
      },
      "source": [
        "vector"
      ],
      "execution_count": null,
      "outputs": [
        {
          "output_type": "execute_result",
          "data": {
            "text/plain": [
              "<tf.Variable 'Variable:0' shape=(2,) dtype=float32, numpy=array([1., 2.], dtype=float32)>"
            ]
          },
          "metadata": {
            "tags": []
          },
          "execution_count": 28
        }
      ]
    },
    {
      "cell_type": "code",
      "metadata": {
        "id": "dH5ih3b-Kz63"
      },
      "source": [
        "# TF constant vrednosti se ne mogu menjati"
      ],
      "execution_count": null,
      "outputs": []
    },
    {
      "cell_type": "code",
      "metadata": {
        "colab": {
          "base_uri": "https://localhost:8080/"
        },
        "id": "sCIbSmMhL595",
        "outputId": "7ba681ee-4b6b-4643-d19f-89d1cd01784b"
      },
      "source": [
        "tf.add([2,3],[4,5])\n",
        "tf.square(5)\n",
        "tf.reduce_sum([1,2,3])\n",
        "tf.square(2) + tf.square(3)"
      ],
      "execution_count": null,
      "outputs": [
        {
          "output_type": "execute_result",
          "data": {
            "text/plain": [
              "<tf.Tensor: shape=(), dtype=int32, numpy=13>"
            ]
          },
          "metadata": {
            "tags": []
          },
          "execution_count": 30
        }
      ]
    },
    {
      "cell_type": "code",
      "metadata": {
        "colab": {
          "base_uri": "https://localhost:8080/"
        },
        "id": "eJ975dCIOXag",
        "outputId": "6dad6cb4-a152-438b-a38f-32b49d5afe67"
      },
      "source": [
        "import numpy as np\n",
        "x = np.arange(0,25)\n",
        "x"
      ],
      "execution_count": null,
      "outputs": [
        {
          "output_type": "execute_result",
          "data": {
            "text/plain": [
              "array([ 0,  1,  2,  3,  4,  5,  6,  7,  8,  9, 10, 11, 12, 13, 14, 15, 16,\n",
              "       17, 18, 19, 20, 21, 22, 23, 24])"
            ]
          },
          "metadata": {
            "tags": []
          },
          "execution_count": 31
        }
      ]
    },
    {
      "cell_type": "code",
      "metadata": {
        "colab": {
          "base_uri": "https://localhost:8080/"
        },
        "id": "zi22L5UeP3uy",
        "outputId": "059cef86-8799-42b0-f783-807ea8621255"
      },
      "source": [
        "x = tf.square(x)\n",
        "x"
      ],
      "execution_count": null,
      "outputs": [
        {
          "output_type": "execute_result",
          "data": {
            "text/plain": [
              "<tf.Tensor: shape=(25,), dtype=int64, numpy=\n",
              "array([  0,   1,   4,   9,  16,  25,  36,  49,  64,  81, 100, 121, 144,\n",
              "       169, 196, 225, 256, 289, 324, 361, 400, 441, 484, 529, 576])>"
            ]
          },
          "metadata": {
            "tags": []
          },
          "execution_count": 32
        }
      ]
    },
    {
      "cell_type": "code",
      "metadata": {
        "colab": {
          "base_uri": "https://localhost:8080/"
        },
        "id": "1LYPyqZdO0_E",
        "outputId": "677eea27-616f-4658-ad64-5b5e399ae546"
      },
      "source": [
        "x = tf.cast(x,tf.float32)\n",
        "x"
      ],
      "execution_count": null,
      "outputs": [
        {
          "output_type": "execute_result",
          "data": {
            "text/plain": [
              "<tf.Tensor: shape=(25,), dtype=float32, numpy=\n",
              "array([  0.,   1.,   4.,   9.,  16.,  25.,  36.,  49.,  64.,  81., 100.,\n",
              "       121., 144., 169., 196., 225., 256., 289., 324., 361., 400., 441.,\n",
              "       484., 529., 576.], dtype=float32)>"
            ]
          },
          "metadata": {
            "tags": []
          },
          "execution_count": 33
        }
      ]
    },
    {
      "cell_type": "code",
      "metadata": {
        "colab": {
          "base_uri": "https://localhost:8080/"
        },
        "id": "VEPHJwDyPz2c",
        "outputId": "02129b55-0a56-4d75-fad7-628c8892b81e"
      },
      "source": [
        "class MyLayer(tf.keras.layers.Layer):\n",
        "\n",
        "    def __init__(self):\n",
        "        super(MyLayer,self).__init__()\n",
        "        self.my_var = tf.Variable(100)\n",
        "        self.my_other_var_list = [tf.Variable(x) for x in range(2)]\n",
        "\n",
        "m = MyLayer()\n",
        "[variable.numpy() for variable in m.variables]"
      ],
      "execution_count": null,
      "outputs": [
        {
          "output_type": "execute_result",
          "data": {
            "text/plain": [
              "[100, 0, 1]"
            ]
          },
          "metadata": {
            "tags": []
          },
          "execution_count": 34
        }
      ]
    },
    {
      "cell_type": "code",
      "metadata": {
        "colab": {
          "base_uri": "https://localhost:8080/"
        },
        "id": "L7ssJlh4kX4C",
        "outputId": "a9844a76-facd-4381-a780-a7df70322d41"
      },
      "source": [
        "tensor = tf.constant([1,2,3])\n",
        "tensor"
      ],
      "execution_count": null,
      "outputs": [
        {
          "output_type": "execute_result",
          "data": {
            "text/plain": [
              "<tf.Tensor: shape=(3,), dtype=int32, numpy=array([1, 2, 3], dtype=int32)>"
            ]
          },
          "metadata": {
            "tags": []
          },
          "execution_count": 35
        }
      ]
    },
    {
      "cell_type": "code",
      "metadata": {
        "id": "0gecjj-lkw_W"
      },
      "source": [
        "##Gradient Tape"
      ],
      "execution_count": null,
      "outputs": []
    },
    {
      "cell_type": "code",
      "metadata": {
        "id": "n_-q9A5Uk9Zp"
      },
      "source": [
        "def simple_loss(real_y,pred_y):\n",
        "    return tf.abs(real_y - pred_y)\n",
        "\n",
        "LEARNING_RATE=0.001"
      ],
      "execution_count": null,
      "outputs": []
    },
    {
      "cell_type": "code",
      "metadata": {
        "id": "tGOHa4H5qt19"
      },
      "source": [
        "def fit_data(real_x,real_y):\n",
        "    with tf.GradientTape(persistent=True) as tape:\n",
        "        #predict\n",
        "        pred_y = w*real_x+b\n",
        "        #calculate loss\n",
        "        reg_loss = simple_loss(real_y,pred_y)\n",
        "\n",
        "    #calculate gradients\n",
        "    w_gradient =tape.gradient(reg_loss,w)\n",
        "    b_gradient = tape.gradient(reg_loss,b)\n",
        "\n",
        "    #update vars\n",
        "    w.assign_sub(w_gradient * LEARNING_RATE)\n",
        "    b.assign_sub(b_gradient * LEARNING RATE)"
      ],
      "execution_count": null,
      "outputs": []
    },
    {
      "cell_type": "code",
      "metadata": {
        "id": "p3r5DqxIk9e5"
      },
      "source": [
        "for _ in range(500):\n",
        "    fit_data(x_train,y_train)\n",
        "print(f'y = {w.numpy()}x + {b.numpy()}')"
      ],
      "execution_count": null,
      "outputs": []
    },
    {
      "cell_type": "code",
      "metadata": {
        "id": "n4sw8lzxu7mP"
      },
      "source": [
        "def train_step(images,labels):\n",
        "    with tf.GradientTape() as tape:\n",
        "        logits = model(images, training=True)\n",
        "        loss_value = loss_object(labels,logits)\n",
        "\n",
        "    loss_history.append(loss_value.numpy().mean())\n",
        "    grads = tape.gradient(loss_value, model.trainable_variables)\n",
        "    oprimizer.apply_gradients(zip(grads,model.trainable_variables))"
      ],
      "execution_count": null,
      "outputs": []
    },
    {
      "cell_type": "code",
      "metadata": {
        "colab": {
          "base_uri": "https://localhost:8080/"
        },
        "id": "fyaUJxxA7Vtf",
        "outputId": "65e3215c-f4f2-4fda-8038-9c0cb4384c15"
      },
      "source": [
        "import tensorflow as tf\n",
        "a = tf.constant([[5,7],[2,1]])\n",
        "b=tf.add(a,2)\n",
        "c=b**2\n",
        "d=tf.reduce_sum(c)\n",
        "print(d)"
      ],
      "execution_count": null,
      "outputs": [
        {
          "output_type": "stream",
          "text": [
            "tf.Tensor(155, shape=(), dtype=int32)\n"
          ],
          "name": "stdout"
        }
      ]
    },
    {
      "cell_type": "code",
      "metadata": {
        "id": "eSzbSwdA7gsR"
      },
      "source": [
        ""
      ],
      "execution_count": null,
      "outputs": []
    }
  ]
}