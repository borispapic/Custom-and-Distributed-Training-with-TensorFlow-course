{
  "nbformat": 4,
  "nbformat_minor": 0,
  "metadata": {
    "colab": {
      "name": "tf_spec2_week_3.ipynb",
      "provenance": []
    },
    "kernelspec": {
      "name": "python3",
      "display_name": "Python 3"
    },
    "language_info": {
      "name": "python"
    }
  },
  "cells": [
    {
      "cell_type": "code",
      "metadata": {
        "id": "R5NO8U-yQQsa"
      },
      "source": [
        "import tensorflow as tf"
      ],
      "execution_count": 2,
      "outputs": []
    },
    {
      "cell_type": "code",
      "metadata": {
        "id": "bYP5-WTRSszI"
      },
      "source": [
        "@tf.function\n",
        "def f(x):\n",
        "    def if_true():\n",
        "        return x*x\n",
        "    def if_false():\n",
        "        return x\n",
        "    x = tf.cond(\n",
        "        tf.greater(x,0),\n",
        "        if_true,\n",
        "        if_false)\n",
        "    return x"
      ],
      "execution_count": null,
      "outputs": []
    },
    {
      "cell_type": "code",
      "metadata": {
        "colab": {
          "base_uri": "https://localhost:8080/"
        },
        "id": "0cSNi6VMTC3x",
        "outputId": "46a8b282-0e5d-4ec9-dfc8-b347345be86b"
      },
      "source": [
        "print(tf.autograph.to_code(f.python_function))"
      ],
      "execution_count": null,
      "outputs": [
        {
          "output_type": "stream",
          "text": [
            "def tf__f(x):\n",
            "    with ag__.FunctionScope('f', 'fscope', ag__.ConversionOptions(recursive=True, user_requested=True, optional_features=(), internal_convert_user_code=True)) as fscope:\n",
            "        do_return = False\n",
            "        retval_ = ag__.UndefinedReturnValue()\n",
            "\n",
            "        @ag__.autograph_artifact\n",
            "        def if_true():\n",
            "            with ag__.FunctionScope('if_true', 'fscope_1', ag__.STD) as fscope_1:\n",
            "                do_return_1 = False\n",
            "                retval__1 = ag__.UndefinedReturnValue()\n",
            "                try:\n",
            "                    do_return_1 = True\n",
            "                    retval__1 = (ag__.ld(x) * ag__.ld(x))\n",
            "                except:\n",
            "                    do_return_1 = False\n",
            "                    raise\n",
            "                return fscope_1.ret(retval__1, do_return_1)\n",
            "\n",
            "        @ag__.autograph_artifact\n",
            "        def if_false():\n",
            "            with ag__.FunctionScope('if_false', 'fscope_2', ag__.STD) as fscope_2:\n",
            "                do_return_2 = False\n",
            "                retval__2 = ag__.UndefinedReturnValue()\n",
            "                try:\n",
            "                    do_return_2 = True\n",
            "                    retval__2 = ag__.ld(x)\n",
            "                except:\n",
            "                    do_return_2 = False\n",
            "                    raise\n",
            "                return fscope_2.ret(retval__2, do_return_2)\n",
            "        x = ag__.converted_call(ag__.ld(tf).cond, (ag__.converted_call(ag__.ld(tf).greater, (ag__.ld(x), 0), None, fscope), ag__.ld(if_true), ag__.ld(if_false)), None, fscope)\n",
            "        try:\n",
            "            do_return = True\n",
            "            retval_ = ag__.ld(x)\n",
            "        except:\n",
            "            do_return = False\n",
            "            raise\n",
            "        return fscope.ret(retval_, do_return)\n",
            "\n"
          ],
          "name": "stdout"
        }
      ]
    },
    {
      "cell_type": "code",
      "metadata": {
        "id": "gy_w2O43TzUI"
      },
      "source": [
        "@tf.function\n",
        "def f(x):\n",
        "    while tf.reduce_sum(x) >1:\n",
        "        tf.print(x)\n",
        "        x = tf.tanh(x)\n",
        "    return x"
      ],
      "execution_count": null,
      "outputs": []
    },
    {
      "cell_type": "code",
      "metadata": {
        "colab": {
          "base_uri": "https://localhost:8080/"
        },
        "id": "omhL23CQphLg",
        "outputId": "99fce372-c7a2-43d4-e3ef-c3b2d6ba1fed"
      },
      "source": [
        "a = tf.Variable(1.0)\n",
        "b = tf.Variable(2.0)\n",
        "\n",
        "@tf.function\n",
        "def f(x,y):\n",
        "    a.assign(y*b)\n",
        "    b.assign_add(x*a)\n",
        "    return a + b\n",
        "\n",
        "print(f(1.0,2.0))\n",
        "\n",
        "print(tf.autograph.to_code(f.python_function))"
      ],
      "execution_count": 3,
      "outputs": [
        {
          "output_type": "stream",
          "text": [
            "tf.Tensor(10.0, shape=(), dtype=float32)\n",
            "def tf__f(x, y):\n",
            "    with ag__.FunctionScope('f', 'fscope', ag__.ConversionOptions(recursive=True, user_requested=True, optional_features=(), internal_convert_user_code=True)) as fscope:\n",
            "        do_return = False\n",
            "        retval_ = ag__.UndefinedReturnValue()\n",
            "        ag__.converted_call(ag__.ld(a).assign, ((ag__.ld(y) * ag__.ld(b)),), None, fscope)\n",
            "        ag__.converted_call(ag__.ld(b).assign_add, ((ag__.ld(x) * ag__.ld(a)),), None, fscope)\n",
            "        try:\n",
            "            do_return = True\n",
            "            retval_ = (ag__.ld(a) + ag__.ld(b))\n",
            "        except:\n",
            "            do_return = False\n",
            "            raise\n",
            "        return fscope.ret(retval_, do_return)\n",
            "\n"
          ],
          "name": "stdout"
        }
      ]
    },
    {
      "cell_type": "code",
      "metadata": {
        "colab": {
          "base_uri": "https://localhost:8080/"
        },
        "id": "aBVLTJhY8687",
        "outputId": "c13ace04-bedc-41ec-9d71-a69b497e8fa0"
      },
      "source": [
        "@tf.function\n",
        "def sign(x):\n",
        "    if x > 0:\n",
        "        return 'Positive'\n",
        "    else:\n",
        "        return 'Negative or zero'\n",
        "\n",
        "print(\"Sign = {}\".format(sign(tf.constant(2))))\n",
        "print(\"Sign = {}\".format(sign(tf.constant(-2))))\n",
        "\n",
        "print(tf.autograph.to_code(sign.python_function))"
      ],
      "execution_count": 4,
      "outputs": [
        {
          "output_type": "stream",
          "text": [
            "Sign = b'Positive'\n",
            "Sign = b'Negative or zero'\n",
            "def tf__sign(x):\n",
            "    with ag__.FunctionScope('sign', 'fscope', ag__.ConversionOptions(recursive=True, user_requested=True, optional_features=(), internal_convert_user_code=True)) as fscope:\n",
            "        do_return = False\n",
            "        retval_ = ag__.UndefinedReturnValue()\n",
            "\n",
            "        def get_state():\n",
            "            return (do_return, retval_)\n",
            "\n",
            "        def set_state(vars_):\n",
            "            nonlocal retval_, do_return\n",
            "            (do_return, retval_) = vars_\n",
            "\n",
            "        def if_body():\n",
            "            nonlocal retval_, do_return\n",
            "            try:\n",
            "                do_return = True\n",
            "                retval_ = 'Positive'\n",
            "            except:\n",
            "                do_return = False\n",
            "                raise\n",
            "\n",
            "        def else_body():\n",
            "            nonlocal retval_, do_return\n",
            "            try:\n",
            "                do_return = True\n",
            "                retval_ = 'Negative or zero'\n",
            "            except:\n",
            "                do_return = False\n",
            "                raise\n",
            "        ag__.if_stmt((ag__.ld(x) > 0), if_body, else_body, get_state, set_state, ('do_return', 'retval_'), 2)\n",
            "        return fscope.ret(retval_, do_return)\n",
            "\n"
          ],
          "name": "stdout"
        }
      ]
    },
    {
      "cell_type": "code",
      "metadata": {
        "colab": {
          "base_uri": "https://localhost:8080/"
        },
        "id": "vpvnhEwu_E5g",
        "outputId": "fd3fca9a-6e29-462b-bf9d-e578efe9ff78"
      },
      "source": [
        "@tf.function\n",
        "def f(x):\n",
        "    while tf.reduce_sum(x) > 1:\n",
        "        tf.print(x)\n",
        "        x = tf.tanh(x)\n",
        "    return x\n",
        "\n",
        "print(tf.autograph.to_code(f.python_function))"
      ],
      "execution_count": 5,
      "outputs": [
        {
          "output_type": "stream",
          "text": [
            "def tf__f(x):\n",
            "    with ag__.FunctionScope('f', 'fscope', ag__.ConversionOptions(recursive=True, user_requested=True, optional_features=(), internal_convert_user_code=True)) as fscope:\n",
            "        do_return = False\n",
            "        retval_ = ag__.UndefinedReturnValue()\n",
            "\n",
            "        def get_state():\n",
            "            return (x,)\n",
            "\n",
            "        def set_state(vars_):\n",
            "            nonlocal x\n",
            "            (x,) = vars_\n",
            "\n",
            "        def loop_body():\n",
            "            nonlocal x\n",
            "            ag__.converted_call(ag__.ld(tf).print, (ag__.ld(x),), None, fscope)\n",
            "            x = ag__.converted_call(ag__.ld(tf).tanh, (ag__.ld(x),), None, fscope)\n",
            "\n",
            "        def loop_test():\n",
            "            return (ag__.converted_call(ag__.ld(tf).reduce_sum, (ag__.ld(x),), None, fscope) > 1)\n",
            "        ag__.while_stmt(loop_test, loop_body, get_state, set_state, ('x',), {})\n",
            "        try:\n",
            "            do_return = True\n",
            "            retval_ = ag__.ld(x)\n",
            "        except:\n",
            "            do_return = False\n",
            "            raise\n",
            "        return fscope.ret(retval_, do_return)\n",
            "\n"
          ],
          "name": "stdout"
        }
      ]
    },
    {
      "cell_type": "code",
      "metadata": {
        "colab": {
          "base_uri": "https://localhost:8080/"
        },
        "id": "uF__Mthc_ICv",
        "outputId": "4422735d-8dcb-4053-c269-0f36645a0668"
      },
      "source": [
        "@tf.function\n",
        "def sum_even(items):\n",
        "    s = 0\n",
        "    for c in items:\n",
        "        if c % 2 > 0:\n",
        "            continue\n",
        "        s += c\n",
        "    return s\n",
        "\n",
        "print(tf.autograph.to_code(sum_even.python_function))"
      ],
      "execution_count": 6,
      "outputs": [
        {
          "output_type": "stream",
          "text": [
            "def tf__sum_even(items):\n",
            "    with ag__.FunctionScope('sum_even', 'fscope', ag__.ConversionOptions(recursive=True, user_requested=True, optional_features=(), internal_convert_user_code=True)) as fscope:\n",
            "        do_return = False\n",
            "        retval_ = ag__.UndefinedReturnValue()\n",
            "        s = 0\n",
            "\n",
            "        def get_state_2():\n",
            "            return (s,)\n",
            "\n",
            "        def set_state_2(vars_):\n",
            "            nonlocal s\n",
            "            (s,) = vars_\n",
            "\n",
            "        def loop_body(itr):\n",
            "            nonlocal s\n",
            "            c = itr\n",
            "            continue_ = False\n",
            "\n",
            "            def get_state():\n",
            "                return (continue_,)\n",
            "\n",
            "            def set_state(vars_):\n",
            "                nonlocal continue_\n",
            "                (continue_,) = vars_\n",
            "\n",
            "            def if_body():\n",
            "                nonlocal continue_\n",
            "                continue_ = True\n",
            "\n",
            "            def else_body():\n",
            "                nonlocal continue_\n",
            "                pass\n",
            "            ag__.if_stmt(((ag__.ld(c) % 2) > 0), if_body, else_body, get_state, set_state, ('continue_',), 1)\n",
            "\n",
            "            def get_state_1():\n",
            "                return (s,)\n",
            "\n",
            "            def set_state_1(vars_):\n",
            "                nonlocal s\n",
            "                (s,) = vars_\n",
            "\n",
            "            def if_body_1():\n",
            "                nonlocal s\n",
            "                s = ag__.ld(s)\n",
            "                s += c\n",
            "\n",
            "            def else_body_1():\n",
            "                nonlocal s\n",
            "                pass\n",
            "            ag__.if_stmt(ag__.not_(continue_), if_body_1, else_body_1, get_state_1, set_state_1, ('s',), 1)\n",
            "        c = ag__.Undefined('c')\n",
            "        continue_ = ag__.Undefined('continue_')\n",
            "        ag__.for_stmt(ag__.ld(items), None, loop_body, get_state_2, set_state_2, ('s',), {'iterate_names': 'c'})\n",
            "        try:\n",
            "            do_return = True\n",
            "            retval_ = ag__.ld(s)\n",
            "        except:\n",
            "            do_return = False\n",
            "            raise\n",
            "        return fscope.ret(retval_, do_return)\n",
            "\n"
          ],
          "name": "stdout"
        }
      ]
    }
  ]
}